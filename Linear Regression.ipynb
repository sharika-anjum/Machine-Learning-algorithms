{
 "cells": [
  {
   "cell_type": "code",
   "execution_count": 1,
   "metadata": {},
   "outputs": [],
   "source": [
    "# importing the libraries required\n",
    "\n",
    "import numpy as np\n",
    "import pandas as pd\n",
    "import matplotlib.pyplot as plt\n",
    "%matplotlib inline"
   ]
  },
  {
   "cell_type": "code",
   "execution_count": 2,
   "metadata": {
    "scrolled": true
   },
   "outputs": [
    {
     "data": {
      "text/html": [
       "<div>\n",
       "<style scoped>\n",
       "    .dataframe tbody tr th:only-of-type {\n",
       "        vertical-align: middle;\n",
       "    }\n",
       "\n",
       "    .dataframe tbody tr th {\n",
       "        vertical-align: top;\n",
       "    }\n",
       "\n",
       "    .dataframe thead th {\n",
       "        text-align: right;\n",
       "    }\n",
       "</style>\n",
       "<table border=\"1\" class=\"dataframe\">\n",
       "  <thead>\n",
       "    <tr style=\"text-align: right;\">\n",
       "      <th></th>\n",
       "      <th>YearsExperience</th>\n",
       "      <th>Salary</th>\n",
       "    </tr>\n",
       "  </thead>\n",
       "  <tbody>\n",
       "    <tr>\n",
       "      <th>0</th>\n",
       "      <td>1.1</td>\n",
       "      <td>39343.0</td>\n",
       "    </tr>\n",
       "    <tr>\n",
       "      <th>1</th>\n",
       "      <td>1.3</td>\n",
       "      <td>46205.0</td>\n",
       "    </tr>\n",
       "  </tbody>\n",
       "</table>\n",
       "</div>"
      ],
      "text/plain": [
       "   YearsExperience   Salary\n",
       "0              1.1  39343.0\n",
       "1              1.3  46205.0"
      ]
     },
     "execution_count": 2,
     "metadata": {},
     "output_type": "execute_result"
    }
   ],
   "source": [
    "#storing the data in the dataframe\n",
    "\n",
    "df=pd.read_csv('Salary_Data.csv')\n",
    "df.head(2)"
   ]
  },
  {
   "cell_type": "code",
   "execution_count": 3,
   "metadata": {},
   "outputs": [
    {
     "data": {
      "text/plain": [
       "(30, 2)"
      ]
     },
     "execution_count": 3,
     "metadata": {},
     "output_type": "execute_result"
    }
   ],
   "source": [
    "df.shape"
   ]
  },
  {
   "cell_type": "code",
   "execution_count": 4,
   "metadata": {},
   "outputs": [
    {
     "name": "stdout",
     "output_type": "stream",
     "text": [
      "<class 'pandas.core.frame.DataFrame'>\n",
      "RangeIndex: 30 entries, 0 to 29\n",
      "Data columns (total 2 columns):\n",
      "YearsExperience    30 non-null float64\n",
      "Salary             30 non-null float64\n",
      "dtypes: float64(2)\n",
      "memory usage: 560.0 bytes\n"
     ]
    }
   ],
   "source": [
    "df.info()"
   ]
  },
  {
   "cell_type": "markdown",
   "metadata": {},
   "source": [
    "# Creating an user defined class - LinearRegression that has two methods fit and predict for fitting and predicting the best fitted line for a given dataset respectively. "
   ]
  },
  {
   "cell_type": "markdown",
   "metadata": {},
   "source": [
    "# We will be creating the model exactly like the sklearn."
   ]
  },
  {
   "cell_type": "markdown",
   "metadata": {},
   "source": [
    "# We will use Ordinary Least Squares (OLS) method."
   ]
  },
  {
   "cell_type": "markdown",
   "metadata": {},
   "source": [
    "# Ordinary least squares, or linear least squares, estimates the parameters in a regression model by minimizing the sum of the squared residuals. This method draws a line through the data points that minimizes the sum of the squared differences between the observed values and the corresponding fitted values."
   ]
  },
  {
   "cell_type": "markdown",
   "metadata": {},
   "source": [
    "# A straight line equation is y=m*x + b where m is the slope of the line and b is the y-intercept"
   ]
  },
  {
   "cell_type": "markdown",
   "metadata": {},
   "source": [
    "# m = (Σ (xi - mean_x)(yi - mean_y))/ (Σ (xi - mean_x)^2)"
   ]
  },
  {
   "cell_type": "markdown",
   "metadata": {},
   "source": [
    "# b = mean_y - (m*mean_x)"
   ]
  },
  {
   "cell_type": "markdown",
   "metadata": {},
   "source": [
    "# Here xi and yi denotes the term of x and y at position i, where i ranges from 0 to the ending range of x and y."
   ]
  },
  {
   "cell_type": "code",
   "execution_count": 5,
   "metadata": {},
   "outputs": [],
   "source": [
    "class LinearRegression():\n",
    "    # num means numerator, denum means denominator,b is the y intercept of my straight line and m is the slope of my straight line\n",
    "    def __init__(self):    #constructor of the class\n",
    "        self.num = 0\n",
    "        self.denum = 0\n",
    "        self.b = 0\n",
    "        self.m= 0\n",
    "        \n",
    "        #defining the function fit which will help me to fit my x and y values \n",
    "    def fit(self,data_x,data_y): #data_x and data_y is an array or list\n",
    "        # Finding mean x and mean y\n",
    "        mean_x = np.mean(data_x)\n",
    "        mean_y = np.mean(data_y)\n",
    "        \n",
    "        \n",
    "        N = len(data_x)      # finding the length of the array\n",
    "        \n",
    "        for i in range(N):\n",
    "            #now going according to the formula\n",
    "            self.num += (data_x[i] - mean_x)*(data_y[i] - mean_y)\n",
    "            self.denum += (data_x[i] - mean_x)**2 \n",
    "        self.m += self.num/self.denum\n",
    "        \n",
    "        self.b += mean_y - (self.m*mean_x)\n",
    "       \n",
    "        \n",
    "        return self\n",
    "    \n",
    "    #definig the function predict that will help me to predict my y values depending on the x values\n",
    "    def predict(self,test_x):\n",
    "        y = self.m*test_x + self.b\n",
    "        \n",
    "        return y"
   ]
  },
  {
   "cell_type": "code",
   "execution_count": 6,
   "metadata": {},
   "outputs": [],
   "source": [
    "#since my fit and predict function takes in arrays or list, so we need to keep that in mind and define the x and y variable\n",
    "x = np.array(df.iloc[:,0].values)\n",
    "y = np.array(df.iloc[:,1].values)"
   ]
  },
  {
   "cell_type": "code",
   "execution_count": 7,
   "metadata": {},
   "outputs": [],
   "source": [
    "from sklearn.model_selection import train_test_split\n",
    "train_x,test_x,train_y,test_y = train_test_split(x,y,test_size=0.2,random_state=0) #splitting my data into two parts for training and testing\n",
    "#setting my random state to 0, so a randomly-initialized RandomState object is returned."
   ]
  },
  {
   "cell_type": "code",
   "execution_count": 8,
   "metadata": {},
   "outputs": [],
   "source": [
    "regressor = LinearRegression() # making the object of my class "
   ]
  },
  {
   "cell_type": "code",
   "execution_count": 9,
   "metadata": {},
   "outputs": [
    {
     "data": {
      "text/plain": [
       "<__main__.LinearRegression at 0x13307aa6208>"
      ]
     },
     "execution_count": 9,
     "metadata": {},
     "output_type": "execute_result"
    }
   ],
   "source": [
    "regressor.fit(train_x,train_y) #fitting my training data"
   ]
  },
  {
   "cell_type": "code",
   "execution_count": 10,
   "metadata": {},
   "outputs": [
    {
     "data": {
      "text/plain": [
       "array([ 40748.96184072, 122699.62295594,  64961.65717022,  63099.14214487,\n",
       "       115249.56285456, 107799.50275317])"
      ]
     },
     "execution_count": 10,
     "metadata": {},
     "output_type": "execute_result"
    }
   ],
   "source": [
    "#using the predict function for predicting\n",
    "y_pred = regressor.predict(test_x)\n",
    "y_pred"
   ]
  },
  {
   "cell_type": "code",
   "execution_count": 11,
   "metadata": {},
   "outputs": [
    {
     "data": {
      "image/png": "iVBORw0KGgoAAAANSUhEUgAAAnoAAAFNCAYAAACXPcKEAAAABHNCSVQICAgIfAhkiAAAAAlwSFlzAAALEgAACxIB0t1+/AAAADl0RVh0U29mdHdhcmUAbWF0cGxvdGxpYiB2ZXJzaW9uIDMuMC4zLCBodHRwOi8vbWF0cGxvdGxpYi5vcmcvnQurowAAIABJREFUeJzt3Xl8VOXZ//HPFTYB2UEsIIuCC6K4xL21Vn0UrRZr3WNFRREXQLEqys9qFKribl0joKBRULAIWlSqCFXrEhVFRCBA2ERBAUUja67fH3MSZ7InZHJmJt/365XXzFznzDlXyPO0397n3Pcxd0dEREREUk9a2A2IiIiISHwo6ImIiIikKAU9ERERkRSloCciIiKSohT0RERERFKUgp6IiIhIilLQE5GEZWa3mtmzNXSsp81sRE0cq4rnbWxm08zsBzN70cwyzOyNOJ8zz8yOL2Nb0b+Dmf3OzBbEsxcRCZeCnoiExsx+ivopMLNfoj5nhN1fRczsGDNbWcFuZwDtgTbufqa7Z7v7CVHHcDPrXsVj1gh3/6+771Ub5xKRcCjoiUho3H3nwh9gOXBqVC077P5qSBdgobtvC7sREal7FPREJNE1NLPxZrbRzOaZWXrhBjPrYGaTzWytmS01s8EVHKutmc0IjjXLzLpEHWvvYNs6M1tgZmdFbTvZzL4MvrfKzP5mZk2B6UCHqFHIDtEnM7NM4O/A2cH2/mZ2oZm9E2yfHez6WbC9X2nHNLM0MxtmZovN7Hsze8HMWked569mtizYNryy/7DFRw+DS75/M7PPg0vNE81sp6jtp5jZHDPbYGbvmdn+lT2XiIRDQU9EEt2fgAlAS2Aq8DCAmaUB04DPgI7AccDVZnZiOcfKAG4H2gJzgOzgWE2BGcBzwC7AucCjZrZv8L0xwGXu3gzoBbzl7j8DJwFfR41Cfh19Mne/BfgHMDHYPqbY9qODt72D7ePKOOZg4DTg90AHYD3wSNB7T+Ax4K/BtjZApwr+TctzFtAH6AbsD1wYnOcgYCxwWXCOJ4CpZtZoB84lInGmoCciie4dd/+3u28HngF6B/VDgHbufpu7b3H3JcCTwDnlHOtVd5/t7puB4cARZrYbcAqQ5+5Pufs2d/8EmEzk/jqArUBPM2vu7uuD7bXpMmC4u68Mer8VOMPM6gc9vhL1e90MFOzAuR5y96/dfR2RIH1AUL8UeMLdP3D37UEo3QwcvgPnEpE4U9ATkUT3TdT7fGCnIOB0IXKJc0PhD3ATkYkPZVlR+MbdfwLWERkF6wIcVuxYGcCuwe5/AU4GlgWXfI+oqV+ukroA/4rqbT6wncjv2oHY3+tn4PsdOFfxf++do3q4tti/0W7B+UUkQdUPuwERkWpaASx19x5V+M5uhW/MbGegNfB1cKxZ7v5/pX3J3T8C+ppZA+Aq4IXgWF7N3stT2jFXABe7+7vFN5jZamCfqM9NiFxarWkrgJHuPjIOxxaRONGInogkqw+BH83shmCtunpm1svMDinnOyeb2W/NrCGRe/U+cPcVwCvAnsGkhgbBzyFmto+ZNQzWvmvh7luBH4mMpgF8C7QxsxY78Ht8C+xe7HPxYz4OjCycPGJm7cysb7BtEnBK1O91G/H5z/YngYFmdphFNDWzP5pZszicS0RqiIKeiCSl4J69U4ncQ7YU+A4YDZQXup4DbiFyyfZgIpdncfeNwAlE7u/7msjly7uAwokGfwXyzOxHYCBwfvC9r4DngSXB5czqXMa8FRgXfP+sMo75IJGJKG+Y2UbgfeCwoId5wJXB77aayESNGl+Hz91ziNyn93BwjlyCiRoikrjMPR5XHkREREQkbBrRExEREUlRCnoiIiIiKUpBT0RERCRFKeiJiIiIpCgFPREREZEUpQWTA23btvWuXbuG3YaIiIhIhT7++OPv3L1dRfsp6AW6du1KTk5O2G2IiIiIVMjMllVmP126FREREUlRCnoiIiIiKUpBT0RERCRFKeiJiIiIpCgFPREREZEUpaAnIiIikqIU9ERERERSlIKeiIiISIpS0BMRERFJUQp6IiIiIilKQU9EREQkWnY2dO0KaWmR1+zssDuqNj3rVkRERKRQdjYMGMAz+fnsDRyybBkMGBDZlpERamvVoRE9ERERkcADgwZh+flcABxfWMzPh+HDS/9Cgo/+KeiJiIhInXffffdhZlyzfj0ArYEF0TssX17yS8HoH8uWgXvkdcCAhAp7CnoiIiJSZ919992YGddeey0AbdPS+Ab4Htg1esfOnUt+efjwyGhftPJG/0KgoCciIiJ1zl133YWZcf311wPQvn17vv32W9aOH0/7Jk1id27SBEaOLHmQ0kb5yquHIG5Bz8zGmtkaM/siqna3mX1lZp+b2b/MrGXUthvNLNfMFpjZiVH1PkEt18yGRdW7mdkHZrbIzCaaWcOg3ij4nBts7xqv31FERESSyz/+8Q/MjGHDIpGiQ4cOrFmzhm+++YZddtklMuEiKwu6dAGzyGtWVukTMUob5SuvHoJ4jug9DfQpVpsB9HL3/YGFwI0AZtYTOAfYN/jOo2ZWz8zqAY8AJwE9gXODfQHuAu539x7AeqB/UO8PrHf37sD9wX4iIiJSh91+++2YGcODy6qdOnVi7dq1rFq1inbt2sXunJEBeXlQUBB5LWu27ciRkdG+aGWN/oUkbkHP3WcD64rV3nD3bcHH94FOwfu+wAR33+zuS4Fc4NDgJ9fdl7j7FmAC0NfMDDgWmBR8fxxwWtSxxgXvJwHHBfuLiIhIHZOZmYmZ8fe//x2Azp07891337FixQratm27YwevyuhfSMJcR+9iYGLwviOR4FdoZVADWFGsfhjQBtgQFRqj9+9Y+B1332ZmPwT7f1fTv4CIiIgkHnfn1ltv5bbbbiuqdevWjZycHFq3bl2zJ8vISKhgV1wokzHMbDiwDSicf1zaiJtXo17esUrrY4CZ5ZhZztq1a8tvWkRERBKau3PzzTeTlpZWFPK6d+/OunXrWLJkSc2HvCRQ60HPzPoBpwAZ7l4YwFYCu0Xt1gn4upz6d0BLM6tfrB5zrGB7C4pdQi7k7lnunu7u6SWuz4uIiEhScHduuukm0tLSGDFiBAB77rkn69evZ9GiRbRq1SrkDsNTq0HPzPoANwB/cvfohWemAucEM2a7AT2AD4GPgB7BDNuGRCZsTA0C4kzgjOD7/YCXo47VL3h/BvBWVKAUERGRFOHuDBs2jLS0NO644w4A9t57b9avX8+CBQto2bJlBUdIfXG7R8/MngeOAdqa2UrgFiKzbBsBM4L5Ee+7+0B3n2dmLwBfErmke6W7bw+OcxXwOlAPGOvu84JT3ABMMLMRwKfAmKA+BnjGzHKJjOSdE6/fUURERGqfu3P99ddzzz33FNX23Xdf3n33XVq0aBFiZ4nHNNgVkZ6e7jk5OWG3ISIiImVwd/72t79x3333FdX2228/3nnnHZo3bx5iZ7XPzD529/SK9gtz1q2IiIhIhdyda665hgcffLCodsABBzB79myaNWsWYmeJT49AExERkfjLzoauXSEtLfKanV3RN3B3Bg8eTFpaWlHIO+igg9i4cSOffvqpQl4laERPRERE4is7GwYMgPxgHuayZZHPUOoadO7OVVddxaOPPlpUO+SQQ5g5cyZNmzatjY5Thkb0REREJL6GD/815BXKz4/UoxQUFDBw4EDS0tKKQt7hhx/OTz/9xIcffqiQVw0a0RMREZH4Wr683HphwHvyySeLNh155JHMmDGDJsWfJStVohE9ERERia/OnUstF+y2G/3796devXpFIe93v/sd+fn5vPvuuwp5NUBBT0REROJr5EiICm0FwEX16lFv+XLGjh0LwO9//3vy8/OZPXs2jRs3DqnR1KOgJyIiIvGVkQFZWWzt3JkTiDwB4ent2wE49thj+eWXX3j77bcV8OJA9+iJiIhIXG3dupWG558fUzv++OOZNm0aO+20U0hd1Q0KeiIiIhIXW7ZsoVGjRiXqmzZtKrUuNU+XbkVERGpaNRYHTiWbN2/GzEqEuY0bN+LuCnm1SCN6IiIiNamKiwOnkk2bNpV6n91PP/2kNfBCohE9ERGRmlTJxYFTyS+//IKZlQh5P//8M+6ukBciBT0REZGaVMHiwKkkPz8fMyux3l1+fj7uXrl18Or4Ze54U9ATERGpSWUsDlxmPQn9/PPPmFmJkbpffvkFd6/8MimFl7mXLQP3Xy9zK+zVGAU9ERGRmlRscWAg8nnkyHD6qUE//fQTZsbOO+8cU9+0aRPuXvWlUurgZe7apqAnIiJSk4LFgenSBcwir1lZST0RY+PGjZgZzZo1i6lv3rx5x2bR1qHL3GHRrFsREZGalpGR1MGu0I8//kiLFi1K1Ddv3kzDhg13/ASdO0cu15ZWlxqhET0RERGJ8cMPP2BmJULeli1bcPeaCXmQ0pe5E4WCnoiIiACwYcMGzIyWLVvG1Ldu3Yq706BBg5o9YQpe5k40unQrIiJSx61bt442bdqUqG/dupX69eMcFVLkMneiUtATERGpo77//nvatm1bor5t2zbq1asXQkdS03TpVkREJJlVY8HhtWvXYmYlQt62bdtwd4W8FKIRPRERkWRVxefqrlmzhvbt25eob9++nbQ0jf2kIv1VRUREklUlFxz+5ptvMLMSIW/79u24u0JeCtOInoiISLKqYMHh1atX06FDhxKbNYJXd+ivLCIikqzKWFh4VYcOmFmJkFdQUKARvDpGf2kREZFkVWzB4ZWAAZ1WrYrZrTDgmVnt9iehU9ATERFJVsGCw8s7dsSA3YptVsAT3aMnIiKSpL755ht+c/75JeoFBQUKdwIo6ImIiCSdsiZZKOBJcbp0KyIikiRWrVpVYpLF0UcfrUu0UiYFPRERkQS3cuVKzIxOnToV1Y455hjcnVmzZingSZkU9ERERBLU8uXLMTN22+3XaRbHH3887s7MmTNr5iTVeISaJA/doyciIpJgli1bRteuXWNqffr0Yfr06TV7oio+Qk2Sj0b0REREEsTSpUsxs5iQd8opp+DuNR/yoNKPUJPkpaAnIiISsiVLlmBm7L777kW1vn374u5MmzYtfieu4BFqkvwU9EREREKSm5uLmbHHHnsU1f7yl7/g7kyZMiX+DZTxCLUy65J0FPRERERq2aJFizAzevToUVQ7++yzcXcmTZpUe40Ue4QaEPk8cmTt9SBxpaAnIiJSSxYsWICZseeeexbVzjvvPNydCRMm1H5DwSPU6NIFzCKvWVmaiJFCNOtWREQkzubPn0/Pnj1jahdccAHjxo0LqaMoGRkKdilMI3oiIiJxMm/ePMwsJuRddNFFuHtihDxJeQp6IiIiNWzu3LmYGb169SqqXXrppbg7Y8eODbEzqWsU9ERERGrI559/jpmx//77F9UGDhyIu5OVlRViZ1JXKeiJiIjsoDlz5mBm9O7du6h25ZVX4u489thjIXYmdZ2CnoiISHGVfP7rJ598gplx4IEHFtWGDBmCu/Pwww/XTq8i5dCsWxERkWiVeP5rTk4OhxxySMzXhg4dyr333lubnYpUSEFPREQkWjnPf/2wRw8OO+ywmE3XXXcdo0aNqsUGRSovbpduzWysma0xsy+iaq3NbIaZLQpeWwV1M7OHzCzXzD43s4OivtMv2H+RmfWLqh9sZnOD7zxkZlbeOURERCqllOe8vg/YsmUxIW/YsGG4u0KeJLR43qP3NNCnWG0Y8Ka79wDeDD4DnAT0CH4GAI9BJLQBtwCHAYcCt0QFt8eCfQu/16eCc4iIiFQs6jmv7wEGHBG1+f/9v/+Hu3PHHXfUdmciVRa3oOfus4F1xcp9gcIVIscBp0XVx3vE+0BLM/sNcCIww93Xuft6YAbQJ9jW3N3/5+4OjC92rNLOISIiUrGRI3mnUSMMOCqqfMuf/4y7c/vtt4fVmUiV1fas2/buvhogeN0lqHcEVkTttzKolVdfWUq9vHOIiIiUa9asWdj55/O7zZuLapktWuDPPsutL70UYmci1ZMoy6tYKTWvRr1qJzUbYGY5Zpazdu3aqn5dRERSxMyZMzEzjjnmmKLayJEjcXf+vmGDngUrSau2g963wWVXgtc1QX0lsFvUfp2AryuodyqlXt45SnD3LHdPd/f0du3aVfuXEhGR5PTmm29iZhx77LFFtTvvvBN356abbgqxM5GaUdtBbypQOHO2H/ByVP2CYPbt4cAPwWXX14ETzKxVMAnjBOD1YNtGMzs8mG17QbFjlXYOEREJUyUXIa4NM2bMwMw4/vjji2qjRo3C3bnhhhtC60ukpsVtHT0zex44BmhrZiuJzJ69E3jBzPoDy4Ezg93/DZwM5AL5wEUA7r7OzG4HPgr2u83dCyd4XE5kZm9jYHrwQznnEBGRsFRiEeLa8Nprr3HSSSfF1O69916GDh1aaz2I1CaLTFqV9PR0z8nJCbsNEZHU1LVrJNwV16UL5OXF/fTTp0/n5JNPjqk98MADDBkyJO7nFokHM/vY3dMr2k9PxhARkfgrZRHicus15JVXXuHUU0+Nqf3zn//kqquuiut5RRJFosy6FRGRVBa1CHGl6jto6tSpmFlMyHv00Udxd4U8qVMU9EREJP5GjoQmTWJrTZpE6jXoX//6F2ZG3759i2pPPPEE7s7ll19eo+cSSQYKeiIiEn8ZGZCVFbknzyzympVVYxMxJk+ejJlx+umnF9VGjx6NuzOgcNKHSB2ke/RERKR2ZGTU+AzbF154gbPPPjum9tRTT3HhhRfW6HlEkpWCnoiIJJ0JEyZw7rnnxtTGjRvHBRdcEFJHIolJQU9ERJJGdnY2559/fkzt2WefJUOPKBMplYKeiIgkvGeeeabEaN1zzz1XYlRPRGIp6ImISMJ6+umnueiii2JqEydO5KyzzgqpI5Hkolm3IiJhS6BnwCaKMWPGYGYxIe/FF1/E3RXyRKpAI3oiImFKkGfAJoqsrCwuu+yymNrkyZNjlk0RkcrTiJ6ISJiGD/815BXKz4/U65DHH38cM4sJeVOmTMHdFfJEdoBG9EREwhTSM2ATxSOPPFLikWTTpk3jlFNOCakjkdSiET0RkTDV8jNgE8VDDz2EmcWEvFdffRV3V8gTqUEKeiIiYaqlZ8Amivvvvx8zY8iQIUW16dOn4+6cfPLJIXYmkpoU9EREwhTnZ8AminvuuQczY+jQoUW1119/HXenT58+IXYmktoU9EREwpaRAXl5UFAQeU3UkFeNZWDuuusuzIzrrruuqPaf//wHd+eEE06IX68iAmgyhoiIVEYVl4H5xz/+wfBiM4ffeust/vCHP8S7UxGJohE9ERGpWCWXgbn99tsxs5iQ9/bbb+PuCnkiIdCInoiIVKyCZWBuvfVWMjMzYzb997//5be//W28OxORcijoiYhIxTp3jlyuLebm5s0ZYRZTe+eddzjqqKNqqzMRKYcu3YqISMWKLQNzE2DAiB9+KKq99957uLtCnkgC0YieiIhULJhwccMVVzDqxx9jNr3//vscdthhYXQlIhVQ0BMRkQpde+213HfffTG1jz76iPT09JA6EpHKUNATEZEyXX311Tz44IMxtZycHA4++OCQOhKRqlDQExGREgYNGsTDDz8cU/vkk0848MADQ+pIRKpDQU9ERIpcfvnlPP744zG1OXPm0Lt375A6EpEdoaAnIiIMGDCAJ598Mqb2+eefs99++4XUkYjUBAU9EZE67OKLL+app56KqX3xxRfsu+++IXUkIjVJQU9EpA7q168f48ePj6nNmzePnj17htSRiMSDgp6ISB1y/vnnk52dHVObP38+e++9d0gdiUg8KeiJiNQB55xzDhMnToypLViwgD333DOkjkSkNijoiYiksDPOOIPJkyfH1BYtWkT37t1D6khEapOCnohICvrzn//MlClTYmq5ubnsscceIXUkImFQ0BMRSSF/+tOfmDZtWkxtyZIldOvWLaSORCRMCnoiIingpJNO4rXXXoup5eXl0aVLl5A6EpFEoKAnIpLETjjhBGbMmBFTW7ZsGZ07dw6pIxFJJAp6IiJJ6Nhjj2XmzJkxteXLl7PbbruF1JGIJKJKBT0zq+fu2+PdjIiIlM3dOeaYY5g9e3ZMfeXKlXTs2DGkrkQkkaVVcr9cM7vbzLRkuohILXN3jjzySNLS0mJC3qpVq3B3hTwRKVNlg97+wEJgtJm9b2YDzKx5HPsSEal52dnQtSukpUVeiz0hItG4O4cddhhpaWn873//K6qvXr0ad6dDhw4hdiciyaBSQc/dN7r7k+5+JHA9cAuw2szGmZlW3RSRxJedDQMGwLJl4B55HTAgIcOeu3PwwQeTlpbGhx9+WFT/5ptvcHd23XXXELsTkWRSqaBnZvXM7E9m9i/gQeBeYHdgGvDvOPYnIlIzhg+H/PzYWn5+pJ4g3J3evXuTlpbGJ598UlT/9ttvcXfat28fYncikowqO+t2ETATuNvd34uqTzKzo2u+LRGRGrZ8edXqtcjd6dWrF19++WVMfc2aNbRr1y6krkQkFVQ4omdm9YCn3b1/sZAHgLsPjktnIiI1qax15UJcb87d2XvvvUlLS4sJed999x3urpAnIjuswqAXLKvyh1roRUQkfkaOhCZNYmtNmkTqtSWYDFJgRvcGDUhLS2PBggVFm7///nvcnTZt2tReTyKS0ip76fY9M3sYmAj8XFh090/K/oqISALJyIi8Dh8euVzbuXMk5BXW4y07m4JLL2X3X35hGcC2bUWb1q1bR6tWrWqnDxGpU8zdK97JbGYpZXf3Y2u+pXCkp6d7Tk5O2G2ISAoqKCigc8OGrNoeu+78eqBlly6QlxdKXyKSvMzsY3dPr2i/yi6v8odSfqod8szsGjObZ2ZfmNnzZraTmXUzsw/MbJGZTTSzhsG+jYLPucH2rlHHuTGoLzCzE6PqfYJarpkNq26fIiI7Yvv27ey6667Uq1cvJuRtABxoCQkxGUREUleln3VrZn8E9gV2Kqy5+21VPaGZdQQGAz3d/RczewE4BzgZuN/dJ5jZ40B/4LHgdb27dzezc4C7gLODp3ScE/TUAfiPme0ZnOYR4P+AlcBHZjbV3WOns4mIxElhwPvuu+9i6j8AJVaaD3EyiIikvsquo/c4cDYwCDDgTKDLDpy3PtDYzOoDTYDVwLHApGD7OOC04H3f4DPB9uPMzIL6BHff7O5LgVzg0OAn192XuPsWYEKwr4hIXG3fvp2WLVtSv379mJD3448/4s8+S/OwJ4OISJ1T2UegHenuFxAZWcsEjgB2q84J3X0VcA+wnEjA+wH4GNjg7oV3J68ECh/e2BFYEXx3W7B/m+h6se+UVRcRiYtt27bRrFkz6tevzw8//FBU37hxI+5Os2bNIpM+srKgSxcwi7xmZdXeZBARqZMqe+n2l+A138w6AN8D3apzQjNrRWSErRuRW1VeBE4qZdfCWSJWxray6qWF11JnnJjZAGAAQGddPhGRKtq6dSvNmzdn06ZNMfWffvqJpk2blvxCRoaCnYjUqsqO6L1iZi2Bu4FPgDwil0Sr43hgqbuvdfetwEvAkUDL4FIuQCfg6+D9SoLRw2B7C2BddL3Yd8qql+DuWe6e7u7pWphURCpr69atNGjQgIYNG8aEvJ9//hl3Lz3kiYiEoLKzbm939w3uPpnIvXl7u/vN1TzncuBwM2sS3Gt3HPAlkUesnRHs0w94OXg/NfhMsP0tj6wJMxU4J5iV2w3oAXwIfAT0CGbxNiQyYWNqNXsVESmyZcsWzIyGDRuyLWodvPz8fNydJsXvwRMRCVm5l27N7PRytuHuL1X1hO7+gZlNIjIyuA34FMgCXgUmmNmIoDYm+MoY4BkzyyUykndOcJx5wYzdL4PjXBk8xQMzuwp4HagHjHX3eVXtU0Sk0JYtW2jUqFGJen5+Po0bNw6hIxGRyil3wWQze6qc77q7X1zzLYVDCyaLSHGbN29mp512KlH/5ZdfSq2LiNSWyi6YXO6InrtfVHMtiYgkh02bNpU6Urdp06ZSR/ZERBJVrS+YLCKSqMoKeJs3b6Zhw4YhdCQismPCWjBZRCRh/PLLL5hZTMhLS0tj8+bNuLtCnogkrVpfMFlEJFHk5+djZjGzZRs0aMCWLVvYvn27Ap6IJL3KBr3iCyZvo5oLJouIhO3nn3/GzGLWu2vcuDFbt25ly5YtNGjQIMTuRERqTmXv0StcMHkUkceVAYyOT0siIvHx008/RR5HFmXnnXdm/fr11K9f6VuWRUSSRkXr6B0CrHD324PPOwNzga+A++PfnojIjtu4cSPNmzePqbVq1Yq1a9dSr169kLoSEYm/ii7dPgFsATCzo4E7g9oPRBY5FhFJWD/++CNmFhPy2rZty7Zt21i3bp1CnoikvIquVdRz93XB+7OBrOAxaJPNbE58WxMRqZ4ffviBli1bxtR23XVXVq5cqXAnInVKRSN69cysMAweB7wVtU03tIhIQtmwYQNmFhPyOnXqxPbt21m9erVCnojUORWFteeBWWb2HZGZt/8FMLPuRC7fioiEbv369bRu3Tqm1rVrVxYvXkxaWmUXFxARST0VPQJtpJm9CfwGeMN/fTBuGpHFk0VEQrNu3TratGkTU9tjjz1YuHChAp6ICJW4/Oru75dSWxifdkREKvb999/Ttm3bmNpee+3F/PnzMbOQuhIRSTz6n7wikjS+++47zCwm5O27774UFBTw1VdfKeSJiBSjoCciCW/NmjWYGe3atSuq9e7dm4KCAr744gsFPBGRMijoiUjC+vbbbzEz2rdvX1Q7+OCDKSgoYM6cOQp4IiIVUNATkYTzzTffYGbsuuuuRbVDDz2UgoICcnJyFPBERCpJQU9EEsbXX3+NmfGb3/ymqHbUUUdRUFDABx98oIAnIlJFCnoiErpVq1ZhZnTs2LGodvTRR1NQUMA777yjgCciUk0KeiISmhUrVmBmdOrUqah2zDHH4O7MmjVLAU9EZAcp6IlIrVu+fDlmRufOnYtqxx9/PO7OzJkzQ+xMRCS1KOiJSK3Jy8vDzOjSpUtRrU+fPrg7M2bMCLEzEZHUpKAnInG3dOlSzIxu3boV1U455RTcnenTp4fYmYhI2IUQAAAanklEQVRIalPQE5G4Wbx4MWbG7rvvXlTr27cv7s60adNC7ExEpG5Q0BORGpebm4uZ0b1796La6aefjrszZcqUEDsTEalbFPREpMYsXLgQM6NHjx5FtbPOOgt3Z/LkySF2JiJSNynoicgO++qrrzAz9tprr6Laeeedh7szceLE6h00Oxu6doW0tMhrdnaN9CoiUpfUD7sBEUle8+fPp2fPnjG1v/71r4wfP37HDpydDQMGQH5+5POyZZHPABkZO3ZsEZE6RCN6IlJl8+bNw8xiQt5FF12Eu+94yAMYPvzXkFcoPz9SFxGRSlPQE5FKmzt3LmZGr169imqXXHIJ7s7YsWNr7kTLl1etLiIipVLQE5EKffbZZ5gZ+++/f1Ft4MCBuDtPPvlkzZ8w6okZlaqLiEipFPREpExz5szBzDjggAOKaldeeSXuzmOPPRa/E48cCU2axNaaNInURUSk0hT0RKSEjz/+GDPjwAMPLKoNHjwYd+fhhx+OfwMZGZCVBV26gFnkNSur7IkYmqErIlIqzboVkSIfffQRhx56aEztmmuu4b777qv9ZjIyKjfDVjN0RUTKpBE9EeGDDz7AzGJC3nXXXYe7hxPyqkIzdEVEyqSgJ1KHvf/++5gZhx9+eFFt2LBhuDujRo0KsbMq0AxdEZEyKeiJVEWK3Av27rvvYmYcccQRRbXhw4fj7txxxx0hdlYNmqErIlImBT2Ryiq8F2zZMnD/9V6wJAp7//3vfzEzfvvb3xbV/v73v+PujBgxIsTOdoBm6IqIlElBT6SykvhesFmzZmFmHH300UW1zMxM3J3MzMwQO6sBVZ2hKyJSh5i7h91DQkhPT/ecnJyw25BElpYWGckrzgwKCmq/n0qYOXMmxx57bExtxIgRDE+CcCoiImUzs4/dPb2i/TSiJ1JZiXwvWLF7B9+88UbMLCbk3XHHHbi7Qp6ISB2ioCdSWYl6L1jUvYNvuGPLlnH8nXcWbR41ahTuzrBhw0JsUkREwqAFk0Uqq/Cer+HDI0t3dO4cCXlh3ws2fDir8/PpUKx8b6tWDF23LpSWREQkMSjoiVRFZZ/WUEtWr17NqGXLeCCqdj9wNcCGDeE0JSIiCUOXbkWS0Ndff82QIUPYfffd+SdwIbAIcIKQB4lx76CIiIRKQU8kiaxatYrBgwez++6788gjj3Duueey4N57eapJE7pH75gI9w6KiEjoFPREksCqVasYNGgQe+yxB48++igZGRksWLCAsWPHssfQoeGvI5ciTwwREUk1ukdPJIGtWLGCO++8k9GjR1NQUEC/fv246aab2H333WN3DPPewcJZv4WLSRc+MaSwLxERCU0oI3pm1tLMJpnZV2Y238yOMLPWZjbDzBYFr62Cfc3MHjKzXDP73MwOijpOv2D/RWbWL6p+sJnNDb7zkJlZGL+nSHWtWLGCK664gu7du5OVlUW/fv1YuHAho0ePLhnywpbETwwREUl1YV26fRB4zd33BnoD84FhwJvu3gN4M/gMcBLQI/gZADwGYGatgVuAw4BDgVsKw2Gwz4Co7/Wphd9JklmCXHpcvnw5l19+OXvssQejR4/mwgsvZNGiRWRlZdGtW7dQeqrQ8uVVq4uISK2p9aBnZs2Bo4ExAO6+xd03AH2BccFu44DTgvd9gfEe8T7Q0sx+A5wIzHD3de6+HpgB9Am2NXf3/3nk+W7jo44lUlLUgsO4/3rpsRbD3rJlyxg4cCDdu3dnzJgxXHzxxSxatIgnnniCrl271lof1ZLITwwREanjwhjR2x1YCzxlZp+a2Wgzawq0d/fVAMHrLsH+HYEVUd9fGdTKq68spS5SuhAvPebl5XHZZZfRo0cPxo4dyyWXXEJubi6PP/44Xbp0ifv5a0SiPjFERERCCXr1gYOAx9z9QOBnfr1MW5rS7q/zatRLHthsgJnlmFnO2rVry+9aUlcIlx6XLl3KpZdeSo8ePXj66ae59NJLWbx4MY8++iidk20kLCMj/Fm/IiJSqjCC3kpgpbt/EHyeRCT4fRtcdiV4XRO1/25R3+8EfF1BvVMp9RLcPcvd0909vV27djv0S0kSq8VLj0uWLOGSSy5hzz33ZPz48Vx22WUsXryYRx55hN12263iAySqjAzIy4OCgsirQp6ISEKo9aDn7t8AK8xsr6B0HPAlMBUonDnbD3g5eD8VuCCYfXs48ENwafd14AQzaxVMwjgBeD3YttHMDg9m214QdSyRkmrh0uOSJUvo378/e+65J88++ywDBw5k8eLFPPzww3Tq1KniA4iIiFRDWOvoDQKyzawhsAS4iEjofMHM+gPLgTODff8NnAzkAvnBvrj7OjO7Hfgo2O82dy98gvvlwNNAY2B68CNSusLRp+HDI5drO3eOhLwaGJVavHgxI0eOZPz48dSvX58rrriCG264gY4ddduoiIjEn0Umpkp6errn5OSE3YakiNzcXEaMGMGzzz5LgwYNuOyyy7j++uvp0KFD2K2JiEgKMLOP3T29ov30CDSRGrRo0SL69evH3nvvzcSJExk0aBBLlizhgQceqHrIi8fafgmyXqCIiNQOPQJNpAYsXLiQESNGkJ2dTaNGjRg8eDDXX389u+66a/UOWBOPFcvOjr0cffLJMG6cHlUmIlKHaERP6pYaHtFasGAB559/Pvvssw+TJk3i6quvZsmSJdx3333VD3mw42v7lbYI9OOP61FlIiJ1jEb0pO6oiVGywFdffcXtt9/OhAkTaNSoEUOHDuVvf/sb7du3r5led3Rtv9KCYln34+pRZSIiKUsjelJ31MATMObPn895551Hz549mTJlCtdeey15eXncfffdNRfyYMfX9qtKeEu2BZpFRKTSFPSk7tiBUbIvv/ySc889l3333ZepU6dy3XXXkZeXx6hRo9hll10q/H6V7ejafq1bV24/PapMRCSlKehJ3VGNUbJ58+Zx9tln06tXL6ZNm8b111/P0qVLueuuu4jr01Ti9Vixpk31qDIRkTpE6+gFtI5eHVD8Hj2IjGiVEna++OILbrvtNiZNmkTTpk0ZNGgQQ4cOpW3btrXcdDWlpZV+T55Z5DFlIiKS1LSOnkhxlRglmzt3LmeeeSb77bcf06dP58YbbyQvL49//OMfkZCXLOvQ1eLze0VEJHFp1q3ULRkZpV6q/Pzzz7ntttuYPHkyzZo1Y/jw4VxzzTW0adPm151qcNZu3I0cWfrope7HExGpUzSiJ3XanDlzOP300+nduzczZszg5ptvJi8vjxEjRsSGPKiRWbu1Jl73+ImISFLRPXoB3aNXt3z66afcdtttTJkyhebNm3P11Vdz9dVX06pVq7K/pPveREQkQVT2Hj1dupU65dNPPyUzM5OXX36ZFi1acMsttzBkyJDyA16hzp0jl2tLq4uIiCQgXbqVOuHjjz+mb9++HHTQQcyaNYtbb72VvLw8br311sqFPNjxte1ERERqmYKepLScnBxOPfVU0tPTmT17Nrfddht5eXnccssttGzZsmoH031vIiKSZHTpVlLSRx99RGZmJq+++iqtWrXi9ttvZ9CgQbRo0WLHDlzGrF0REZFEpKAnKeXDDz8kMzOTf//737Ru3ZoRI0YwaNAgmjdvHnZrIiIitU5BT1LC+++/T2ZmJq+99hqtW7dm5MiRXHXVVQp4IiJSpynoSVL73//+R2ZmJq+//jpt2rThjjvu4Morr6RZs2ZhtyYiIhI6BT1JSu+99x6ZmZm88cYbtG3bljvvvJMrrrhCAU9ERCSKgp4klXfffZfMzExmzJhB27Ztueuuu7jiiivYeeedw25NREQk4SjoSVJ45513uPXWW3nzzTdp164do0aN4vLLL1fAExERKYeCniS02bNnk5mZyVtvvcUuu+zCPffcw8CBA2natGnYrYmIiCQ8BT1JSLNmzSIzM5OZM2fSvn177r33XgYOHEiT4k+mEBERkTLpyRiSUN5++23+8Ic/cMwxxzB//nzuu+8+lixZwtChQxXyREREqkgjehI6d+ftt98mMzOTWbNmseuuu/LAAw8wYMAAGjduHHZ7IiIiSUsjehIad+ett97i97//PcceeywLFy7kwQcfZMmSJQwZMkQhT0REZAcp6Emtc3f+85//cPTRR3PcccexePFiHnroIZYsWcLgwYMV8ERERGqIgp7UGndnxowZ/O53v+P//u//WLp0Kf/85z9ZvHgxgwYNYqeddgq7RRERkZSioCdx5+688cYbHHXUUZxwwgnk5eXxyCOPkJuby1VXXaWAJyIiEicKehI37s7rr7/OkUceyYknnsiKFSt49NFHWbx4MVdccYUCnoiISJwp6CWy7Gzo2hXS0iKv2dlhd1Qp7s706dM54ogj6NOnD6tWreKxxx4jNzeXyy+/nEaNGoXdooiISJ2g5VUSVXY2DBgA+fmRz8uWRT4DZGSE11c5CgNeZmYmH374IZ07d+bxxx/nwgsvVLgTEREJgUb0EtXw4b+GvEL5+ZF6gnF3Xn31VQ477DD++Mc/8u2335KVlcWiRYu47LLLFPJERERCoqCXqJYvr1o9BO7OK6+8wqGHHsopp5zC2rVrefLJJ1m4cCGXXnopDRs2DLtFERGROk1BL1F17ly1ei1yd6ZOncohhxzCqaeeyvfff8/o0aNZuHAhl1xyiQKeiIhIglDQS1QjR0LxZ7s2aRKph8Tdefnllzn44IPp27cv69evZ8yYMSxYsID+/fvToEGD0HoTERGRkhT0ElVGBmRlQZcuYBZ5zcoKZSKGuzNlyhQOOuggTjvtNH788UeeeuopvvrqKy6++GIFPBERkQSlWbeJLCMj1Bm2BQUFvPzyy2RmZvLZZ5/RvXt3nn76aTIyMqhfX/+nIyIikug0oiclFBQUMHnyZA488EBOP/108vPzGTduHPPnz6df/frU79496db2ExERqYsU9KRIQUEBkyZN4oADDuCMM85g06ZNPPPMM3z55ZdccMEF1J84MbKW37Jl4P7r2n4KeyIiIglJQU8oKCjgxRdfpHfv3px55pls2bKFZ599li+//JLzzz//18u0SbS2n4iIiCjo1Wnbt29n4sSJ7L///px11lls27aN7Oxs5s2bR0ZGBvXq1Yv9QhKs7SciIiK/UtCrg7Zv386ECRPYf//9OeeccygoKOC5557jiy++4LzzzisZ8Aol8Np+IiIiUpKCXh2yfft2nn/+efbbbz/OPfdcACZMmMDcuXM599xzyw54hRJwbT8REREpm4JeHbB9+3aee+45evXqxXnnnUdaWhoTJ05k7ty5nH322RUHvEIJtLafiIiIVEyLoaWwbdu2MWHCBEaMGMGCBQvo1asXL7zwAn/5y19IS6tmxg95bT8RERGpPI3opaBt27bxzDPPsO+++/LXv/6Vhg0b8uKLL/LZZ59x5plnVj/kiYiISFIJ7b/xzayemX1qZq8En7uZ2QdmtsjMJppZw6DeKPicG2zvGnWMG4P6AjM7MareJ6jlmtmw2v7dwrJt2zbGjx9Pz549ueCCC9hpp52YPHkyc+bM4YwzzlDAExERqWPC/G/+IcD8qM93Afe7ew9gPdA/qPcH1rt7d+D+YD/MrCdwDrAv0Ad4NAiP9YBHgJOAnsC5wb4pbdasWeyzzz7069ePJk2a8NJLL/Hpp59y+umnhxfwsrMjT8/QUzRERERCEUoCMLNOwB+B0cFnA44FJgW7jANOC973DT4TbD8u2L8vMMHdN7v7UiAXODT4yXX3Je6+BZgQ7JvSdtllF1q0aMG//vUvPvnkE/785z+HO4KXna2naIiIiIQsrCTwAHA9UBB8bgNscPdtweeVQMfgfUdgBUCw/Ydg/6J6se+UVU8McRrl2mefffjoo4847bTTEuMSrZ6iISIiErpaTwRmdgqwxt0/ji6XsqtXsK2q9dJ6GWBmOWaWs3bt2nK6riFxHuWKDHQmCD1FQ0REJHRhDP0cBfzJzPKIXFY9lsgIX0szK1zupRPwdfB+JbAbQLC9BbAuul7sO2XVS3D3LHdPd/f0du3a7fhvVpG6NMqlp2iIiIiErtaDnrvf6O6d3L0rkckUb7l7BjATOCPYrR/wcvB+avCZYPtb7u5B/ZxgVm43oAfwIfAR0COYxdswOMfUWvjVKlaXRrn0FA0REZHQJcDNXEVuAIaaWS6Re/DGBPUxQJugPhQYBuDu84AXgC+B14Ar3X17cB/fVcDrRGb1vhDsG766NMqlp2iIiIiEziKDY5Kenu45OTnxPUnhPXrRl2+bNNnxAJSdHbn8u3x5JDSOHKlAJSIiksLM7GN3T69ov0Qa0Ut98Rjl0jImIiIiUgaN6AVqZUQvHrp2jYS74rp0gby82u5GREREaoFG9OqKujTBQ0RERKpEQS/Z1aUJHiIiIlIlCnrJTsuYiIiISBkU9JKdljERERGRMtSveBdJeBkZCnYiIiJSgkb0RERERFKUgp6IiIhIilLQExEREUlRCnoiIiIiKUpBT0RERCRFKeiJiIiIpCgFPREREZEUpaAnIiIikqIU9ERERERSlIKeiIiISIoydw+7h4RgZmuBZWH3kUTaAt+F3YRUiv5WyUN/q+Sgv1PySOW/VRd3b1fRTgp6Ui1mluPu6WH3IRXT3yp56G+VHPR3Sh76W+nSrYiIiEjKUtATERERSVEKelJdWWE3IJWmv1Xy0N8qOejvlDzq/N9K9+iJiIiIpCiN6ImIiIikKAU9qRIz283MZprZfDObZ2ZDwu5JymZm9czsUzN7JexepGxm1tLMJpnZV8H/bx0Rdk9SOjO7JvjPvi/M7Hkz2ynsniTCzMaa2Roz+yKq1trMZpjZouC1VZg9hkFBT6pqG3Ctu+8DHA5caWY9Q+5JyjYEmB92E1KhB4HX3H1voDf6myUkM+sIDAbS3b0XUA84J9yuJMrTQJ9itWHAm+7eA3gz+FynKOhJlbj7anf/JHi/kch/IXUMtyspjZl1Av4IjA67FymbmTUHjgbGALj7FnffEG5XUo76QGMzqw80Ab4OuR8JuPtsYF2xcl9gXPB+HHBarTaVABT0pNrMrCtwIPBBuJ1IGR4ArgcKwm5EyrU7sBZ4KrjMPtrMmobdlJTk7quAe4DlwGrgB3d/I9yupALt3X01RAYqgF1C7qfWKehJtZjZzsBk4Gp3/zHsfiSWmZ0CrHH3j8PuRSpUHzgIeMzdDwR+pg5eXkoGwf1dfYFuQAegqZmdH25XIuVT0JMqM7MGREJetru/FHY/UqqjgD+ZWR4wATjWzJ4NtyUpw0pgpbsXjoxPIhL8JPEcDyx197XuvhV4CTgy5J6kfN+a2W8Agtc1IfdT6xT0pErMzIjcSzTf3e8Lux8pnbvf6O6d3L0rkZvF33J3jTwkIHf/BlhhZnsFpeOAL0NsScq2HDjczJoE/1l4HJo4k+imAv2C9/2Al0PsJRT1w25Aks5RwF+BuWY2J6jd5O7/DrEnkWQ3CMg2s4bAEuCikPuRUrj7B2Y2CfiEyAoEn6InLyQMM3seOAZoa2YrgVuAO4EXzKw/kaB+ZngdhkNPxhARERFJUbp0KyIiIpKiFPREREREUpSCnoiIiEiKUtATERERSVEKeiIiIiIpSkFPRBKSRbxjZidF1c4ys9dC7ukFM/vczAaH1UfQSz0z+2+YPYhI4tPyKiKSsMysF/AikWcq1wPmAH3cffEOHLO+u2+r5nc7AbPcfY/qnr8m7MjvICJ1i0b0RCRhufsXwDTgBiKLn45398Vm1s/MPjSzOWb2qJmlAZhZlpnlmNk8M/t74XHMbKWZ3Wxm7wJ/NrNrzOxLM/ustEfDmVljMxtnZnPN7BMzOzrY9AbQITjvkcW+097MXgrO/6GZHR7UHzWzm4L3fzSzmcHI4LNm9piZ/dfMFhaOXJpZfTO7LzjG52Z2SVA/3sz+Y2YTgE+D/TZEnX9Y1Hf+HtS6m9kXZjYm+DeZbmY7Bdv2NLO3gn+DT8ysa1nHEZHkpSdjiEiiyyTyJIItQHowyvdn4Eh332ZmWUQe8/YcMMzd15lZfWCmmU1y98LHif3s7kcBmNlqoIu7bzGzlqWcczCwxd33M7N9gX+bWQ/gT8Akdz+glO88BIxy9/eD0PQK0Au4DvjIzN4D7gdOdHePPEGL3YDfAz2A/5hZd6A/sMbdDzWzRsD7ZvZGcI7DgZ7uvjz4HQl+n5OBzsBhgAX9HknkuZ57Aee6+1wzewk4jcjzj58HbnX3aUH4SyvrOO7+Xvl/IhFJVAp6IpLQ3P1nM5sI/OTum83seOAQICcIS42BFcHu5waPOqoPdAB68utzYydGHXYe8KyZvQxMKeW0vwXuDs4/z8y+BroTCZtlOR7YK+gJoJWZNQ76Hwi8BQxy96VR33nB3QuABWa2gkjgOwHYx8zOCfZpEdQB/ufuy0s59wnASUQeyQWwM7AnkaCX6+5zg/rHQFczawW0dfdpwe+4CcDMyjqOgp5IklLQE5FkUBD8QGSkaay73xy9QzDiNgQ41N03BJdkd4ra5eeo9ycSGUnrC/w/M+vl7tujD1eNHi04d2lhcD/geyLhM1rxm6Q9OM4V7v5mzMEjAfdnSmfACHcfU+w73YHNUaXt/Pqf+6XdoF3qcUQkeekePRFJNv8BzjKztgBm1sbMOgPNgY3Aj2b2GyJhrgQzqwd0cve3iFxWbQc0KbbbbCAj2H8f4DdAbiX6ujLqPAcEr7sTuRR8ANDXzNKjvnNmcL/enkQu4y4CXgeuKLw0a2Z7mVnjCs79OtDfzJoG3+lU+O9TGndfD3xnZqcG++9kZk2qehwRSXwa0RORpBLca5ZJ5J62NGArMBDIIXKZ9gtgCfBuGYeoDzxnZs2I/I/du9x9Y7F9/gk8YWZzg+NfENzPV15rVwKPmdlFwTlmmtlVwFjgGndfHUysGGNmhwbfySUSKncBBgTneILIfXJzgvOtITLyWN6/yb/NbG8i9/NBJPCeV953iATZJ8xsJJFL0n8p5zjfVXAsEUlQWl5FRCQEwaXlSe5e2j2CIiI1QpduRURERFKURvREREREUpRG9ERERERSlIKeiIiISIpS0BMRERFJUQp6IiIiIilKQU9EREQkRSnoiYiIiKSo/w+9yuZ3Vr2GpwAAAABJRU5ErkJggg==\n",
      "text/plain": [
       "<Figure size 720x360 with 1 Axes>"
      ]
     },
     "metadata": {
      "needs_background": "light"
     },
     "output_type": "display_data"
    }
   ],
   "source": [
    "#plotting the best fit line\n",
    "plt.figure(figsize=(10,5))\n",
    "plt.plot(test_x,y_pred,color='black')\n",
    "plt.scatter(x,y,color='red')\n",
    "plt.xlabel(\"Years of experience\")\n",
    "plt.ylabel(\"Salary\")\n",
    "plt.title(\"The best fitted line\")\n",
    "plt.show()"
   ]
  },
  {
   "cell_type": "markdown",
   "metadata": {},
   "source": [
    "# For regression based problem, accuracy is found using R2_score function."
   ]
  },

   "cell_type": "code",
   "execution_count": 12,
   "metadata": {},
   "outputs": [
    {
     "name": "stdout",
     "output_type": "stream",
     "text": [
      "The accuracy of my model is 98.8169515729126 %\n"
     ]
    }
   ],
   "source": [
    "#finding the accuracy of the model\n",
    "from sklearn.metrics import r2_score\n",
    "print(\"The accuracy of my model is\",r2_score(test_y,y_pred)*100,\"%\")"
   ]
  },
  {
   "cell_type": "code",
   "execution_count": 13,
   "metadata": {},
   "outputs": [
    {
     "name": "stdout",
     "output_type": "stream",
     "text": [
      "A person with 20 years of work experience is expected to have a salary of Rs. 213031.60168521196\n"
     ]
    }
   ],
   "source": [
    "print(\"A person with 20 years of work experience is expected to have a salary of Rs.\",regressor.predict(20))"
   ]
  },
  {
   "cell_type": "code",
   "execution_count": null,
   "metadata": {},
   "outputs": [],
   "source": []
  }
 ],
 "metadata": {
  "kernelspec": {
   "display_name": "Python 3",
   "language": "python",
   "name": "python3"
  },
  "language_info": {
   "codemirror_mode": {
    "name": "ipython",
    "version": 3
   },
   "file_extension": ".py",
   "mimetype": "text/x-python",
   "name": "python",
   "nbconvert_exporter": "python",
   "pygments_lexer": "ipython3",
   "version": "3.7.3"
  }
 },
 "nbformat": 4,
 "nbformat_minor": 2
}
