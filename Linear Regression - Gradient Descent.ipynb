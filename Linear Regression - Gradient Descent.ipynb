{
 "cells": [
  {
   "cell_type": "code",
   "execution_count": 1,
   "metadata": {},
   "outputs": [],
   "source": [
    "# importing the libraries required\n",
    "\n",
    "import numpy as np\n",
    "import pandas as pd\n",
    "import matplotlib.pyplot as plt\n",
    "%matplotlib inline"
   ]
  },
  {
   "cell_type": "code",
   "execution_count": 2,
   "metadata": {},
   "outputs": [
    {
     "data": {
      "text/html": [
       "<div>\n",
       "<style scoped>\n",
       "    .dataframe tbody tr th:only-of-type {\n",
       "        vertical-align: middle;\n",
       "    }\n",
       "\n",
       "    .dataframe tbody tr th {\n",
       "        vertical-align: top;\n",
       "    }\n",
       "\n",
       "    .dataframe thead th {\n",
       "        text-align: right;\n",
       "    }\n",
       "</style>\n",
       "<table border=\"1\" class=\"dataframe\">\n",
       "  <thead>\n",
       "    <tr style=\"text-align: right;\">\n",
       "      <th></th>\n",
       "      <th>YearsExperience</th>\n",
       "      <th>Salary</th>\n",
       "    </tr>\n",
       "  </thead>\n",
       "  <tbody>\n",
       "    <tr>\n",
       "      <th>0</th>\n",
       "      <td>1.1</td>\n",
       "      <td>39343.0</td>\n",
       "    </tr>\n",
       "    <tr>\n",
       "      <th>1</th>\n",
       "      <td>1.3</td>\n",
       "      <td>46205.0</td>\n",
       "    </tr>\n",
       "    <tr>\n",
       "      <th>2</th>\n",
       "      <td>1.5</td>\n",
       "      <td>37731.0</td>\n",
       "    </tr>\n",
       "    <tr>\n",
       "      <th>3</th>\n",
       "      <td>2.0</td>\n",
       "      <td>43525.0</td>\n",
       "    </tr>\n",
       "    <tr>\n",
       "      <th>4</th>\n",
       "      <td>2.2</td>\n",
       "      <td>39891.0</td>\n",
       "    </tr>\n",
       "  </tbody>\n",
       "</table>\n",
       "</div>"
      ],
      "text/plain": [
       "   YearsExperience   Salary\n",
       "0              1.1  39343.0\n",
       "1              1.3  46205.0\n",
       "2              1.5  37731.0\n",
       "3              2.0  43525.0\n",
       "4              2.2  39891.0"
      ]
     },
     "execution_count": 2,
     "metadata": {},
     "output_type": "execute_result"
    }
   ],
   "source": [
    "#storing the data in the dataframe\n",
    "\n",
    "df=pd.read_csv('Salary_Data.csv')\n",
    "df.head()"
   ]
  },
  {
   "cell_type": "markdown",
   "metadata": {},
   "source": [
    "# Getting to know my data"
   ]
  },
  {
   "cell_type": "code",
   "execution_count": 3,
   "metadata": {},
   "outputs": [
    {
     "name": "stdout",
     "output_type": "stream",
     "text": [
      "<class 'pandas.core.frame.DataFrame'>\n",
      "RangeIndex: 30 entries, 0 to 29\n",
      "Data columns (total 2 columns):\n",
      "YearsExperience    30 non-null float64\n",
      "Salary             30 non-null float64\n",
      "dtypes: float64(2)\n",
      "memory usage: 560.0 bytes\n"
     ]
    }
   ],
   "source": [
    "df.info()"
   ]
  },
  {
   "cell_type": "code",
   "execution_count": 4,
   "metadata": {},
   "outputs": [
    {
     "data": {
      "text/plain": [
       "Index(['YearsExperience', 'Salary'], dtype='object')"
      ]
     },
     "execution_count": 4,
     "metadata": {},
     "output_type": "execute_result"
    }
   ],
   "source": [
    "df.columns"
   ]
  },
  {
   "cell_type": "code",
   "execution_count": 5,
   "metadata": {},
   "outputs": [
    {
     "data": {
      "text/plain": [
       "(30, 2)"
      ]
     },
     "execution_count": 5,
     "metadata": {},
     "output_type": "execute_result"
    }
   ],
   "source": [
    "df.shape"
   ]
  },
  {
   "cell_type": "markdown",
   "metadata": {},
   "source": [
    "# Linear Regression using Gardient descent concept."
   ]
  },
  {
   "cell_type": "markdown",
   "metadata": {},
   "source": [
    "**Steps for Gradient Descent**"
   ]
  },
  {
   "cell_type": "markdown",
   "metadata": {},
   "source": [
    "**1.First initialization of m and b value. (By assuming, with m=1 and b=0 for the very first time)**\n",
    "\n",
    "**2.Assuming a Learning rate and then calculating the step-size for calculating the next m and b value.**\n",
    "\n",
    "**3.Calculating the next value with m and b.**\n",
    "\n",
    "**4.Repeating the entire steps for all the new values of m and b unill step size <= 0.001, i.e more or less 1000 times**"
   ]
  },
  {
   "cell_type": "markdown",
   "metadata": {},
   "source": [
    "*Formulae to be used :*"
   ]
  },
  {
   "cell_type": "markdown",
   "metadata": {},
   "source": [
    "**Equation of a straight line : y=mx + b** ; here m = slope of the line and b is the intercept of the line"
   ]
  },
  {
   "cell_type": "markdown",
   "metadata": {},
   "source": [
    "**Equation of the SS of a particular line : Σ(pyi-ayi)^2** ; i ranges from 1 to n where n is the total no of y points.\n",
    "\n",
    "yi = the y value for the ith point.\n",
    "\n",
    "pyi = predicted yi value of the best fit line.\n",
    "\n",
    "ayi = actual yi value.\n",
    "\n",
    "SS = Sum of the squared distance"
   ]
  },
  {
   "cell_type": "markdown",
   "metadata": {},
   "source": [
    "**from the equation of the SS line we will see that SS = f(m,b)** i.e. SS is a function of m and b"
   ]
  },
  {
   "cell_type": "markdown",
   "metadata": {},
   "source": [
    "**Calculation of b:**\n",
    "\n",
    "differentiate f(m,b) with respect to b.\n",
    "\n",
    "Then follow the 4 steps of Gradient descent as mentioned above for just b value.\n",
    "\n",
    "**Calculation of m:**\n",
    "\n",
    "differentiate f(m,b) with respect to m.\n",
    "\n",
    "Then follow the 4 steps of Gradient descent as mentioned above for just m value."
   ]
  },
  {
   "cell_type": "markdown",
   "metadata": {},
   "source": [
    "# Linear Regression algorithm"
   ]
  },
  {
   "cell_type": "code",
   "execution_count": 6,
   "metadata": {},
   "outputs": [],
   "source": [
    "class LinearRegressionGD:\n",
    "    \n",
    "    def __init__(self): #constructor for my class which will help me in initializing my variable\n",
    "        self.m=0\n",
    "        self.b=0\n",
    "        \n",
    "    def ss_deriv(self,data_x,data_y): # function to carry out the derivative of my SS line \n",
    "        ypi=self.m*data_x+self.b  #predicted y value\n",
    "        step_m=(2) * sum(data_x *(ypi-data_y)) #derivative of the SS line w.r.t m(slope)\n",
    "        step_b=(2) * sum(ypi-data_y) #derivative of my SS line w.r.t to b(intercept)\n",
    "        return step_m,step_b #returning my derivatives\n",
    "    \n",
    "    def fit(self,data_x,data_y,lr=0.001): #my fit function for fitting my model with the data\n",
    "        for _ in range(1000): #carrying out the process 1000 times to get the minima of my SS line\n",
    "            s_m,s_b = self.ss_deriv(data_x,data_y) #storing the 2 derivatives of my SS line from ss_deriv function\n",
    "            if (s_m == 'Nan' or s_b == 'Nan'):#sometimes it had been seen, that w.r.t to learning rate(lr) the 2 values of my SS derivated line is so large that it returns Nan value\n",
    "                return self #whenever I'll see that my ss_deriv function is giving Nan value I'll stop my loop there and return whatever value we have got.\n",
    "            else:\n",
    "                self.m= self.m - (s_m*lr) #calculating my slope according to the formula\n",
    "                self.b= self.b - (s_b*lr) #calculating my intercept according to the formula\n",
    "        return self #returning my slope nad intercept value\n",
    "            \n",
    "    def predict(self,test_x): #function to predict answers according to the input data\n",
    "        y = self.m*test_x + self.b #calculating my y value with the help of my straight line equation: y = mx + b\n",
    "        \n",
    "        return y #returning my y value"
   ]
  },
  {
   "cell_type": "code",
   "execution_count": 7,
   "metadata": {},
   "outputs": [],
   "source": [
    "#since my fit and predict function takes in arrays or list, so we need to keep that in mind and define the x and y variable\n",
    "x = np.array(df.iloc[:,0].values)\n",
    "y = np.array(df.iloc[:,1].values)"
   ]
  },
  {
   "cell_type": "code",
   "execution_count": 8,
   "metadata": {},
   "outputs": [],
   "source": [
    "from sklearn.model_selection import train_test_split\n",
    "train_x,test_x,train_y,test_y = train_test_split(x,y,test_size=0.2,random_state=0) #splitting my data into two parts for training and testing\n",
    "#setting my random state to 0, so a randomly-initialized RandomState object is returned."
   ]
  },
  {
   "cell_type": "code",
   "execution_count": 9,
   "metadata": {},
   "outputs": [],
   "source": [
    "regressor = LinearRegressionGD() # making the object of my class "
   ]
  },
  {
   "cell_type": "code",
   "execution_count": 10,
   "metadata": {},
   "outputs": [
    {
     "data": {
      "text/plain": [
       "<__main__.LinearRegressionGD at 0x15ac98b6048>"
      ]
     },
     "execution_count": 10,
     "metadata": {},
     "output_type": "execute_result"
    }
   ],
   "source": [
    "regressor.fit(train_x,train_y) #fitting my training data"
   ]
  },
  {
   "cell_type": "code",
   "execution_count": 11,
   "metadata": {},
   "outputs": [
    {
     "data": {
      "text/plain": [
       "array([ 40747.84610873, 122700.53693219,  64961.14112476,  63098.57996968,\n",
       "       115250.29231188, 107800.04769156])"
      ]
     },
     "execution_count": 11,
     "metadata": {},
     "output_type": "execute_result"
    }
   ],
   "source": [
    "#using the predict function for predicting\n",
    "y_pred = regressor.predict(test_x)\n",
    "y_pred"
   ]
  },
  {
   "cell_type": "code",
   "execution_count": 12,
   "metadata": {},
   "outputs": [
    {
     "data": {
      "image/png": "[encoded data removed]",
      "text/plain": [
       "<Figure size 720x360 with 1 Axes>"
      ]
     },
     "metadata": {
      "needs_background": "light"
     },
     "output_type": "display_data"
    }
   ],
   "source": [
    "#plotting the best fit line\n",
    "plt.figure(figsize=(10,5))\n",
    "plt.plot(test_x,y_pred,color='black')\n",
    "plt.scatter(x,y,color='red')\n",
    "plt.xlabel(\"Years of experience\")\n",
    "plt.ylabel(\"Salary\")\n",
    "plt.title(\"The best fitted line\")\n",
    "plt.show()"
   ]
  },
  {
   "cell_type": "code",
   "execution_count": 13,
   "metadata": {},
   "outputs": [
    {
     "name": "stdout",
     "output_type": "stream",
     "text": [
      "The accuracy of my model is 98.81723531509394 %\n"
     ]
    }
   ],
   "source": [
    "#finding the accuracy of the model\n",
    "from sklearn.metrics import r2_score\n",
    "print(\"The accuracy of my model is\",r2_score(test_y,y_pred)*100,\"%\")"
   ]
  },
  {
   "cell_type": "code",
   "execution_count": 14,
   "metadata": {},
   "outputs": [
    {
     "name": "stdout",
     "output_type": "stream",
     "text": [
      "A person with 20 years of work experience is expected to have a salary of Rs. 213034.75295350206\n"
     ]
    }
   ],
   "source": [
    "print(\"A person with 20 years of work experience is expected to have a salary of Rs.\",regressor.predict(20))"
   ]
  },
  {
   "cell_type": "markdown",
   "metadata": {},
   "source": [
    "**My algorithm is thus working fine with an accuracy of 98.82% with the given salary vs experience dataset**"
   ]
  },
  {
   "cell_type": "code",
   "execution_count": null,
   "metadata": {},
   "outputs": [],
   "source": []
  }
 ],
 "metadata": {
  "kernelspec": {
   "display_name": "Python 3",
   "language": "python",
   "name": "python3"
  },
  "language_info": {
   "codemirror_mode": {
    "name": "ipython",
    "version": 3
   },
   "file_extension": ".py",
   "mimetype": "text/x-python",
   "name": "python",
   "nbconvert_exporter": "python",
   "pygments_lexer": "ipython3",
   "version": "3.7.3"
  }
 },
 "nbformat": 4,
 "nbformat_minor": 2
}
